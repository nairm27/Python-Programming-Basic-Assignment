{
 "cells": [
  {
   "cell_type": "markdown",
   "id": "9f4f325d",
   "metadata": {},
   "source": [
    "#### 1. Write a Python Program to Find the Factorial of a Number?\n"
   ]
  },
  {
   "cell_type": "code",
   "execution_count": 28,
   "id": "ce26fb8e",
   "metadata": {},
   "outputs": [
    {
     "name": "stdout",
     "output_type": "stream",
     "text": [
      "Enter the number : 6\n",
      "Factorial of 6 is 720\n"
     ]
    }
   ],
   "source": [
    "def fact(num):\n",
    "    if num < 1:\n",
    "        print('Factorial of {} is 1'.format(num))\n",
    "    else:\n",
    "        fc = 1\n",
    "        for x in range(1,num+1):\n",
    "            fc = fc * x\n",
    "        print('Factorial of {} is {}'.format(num,fc))\n",
    "            \n",
    "num = int(input('Enter the number : '))\n",
    "fact(num)"
   ]
  },
  {
   "cell_type": "markdown",
   "id": "f79b7195",
   "metadata": {},
   "source": [
    "#### 2. Write a Python Program to Display the multiplication Table?"
   ]
  },
  {
   "cell_type": "code",
   "execution_count": 30,
   "id": "533d735f",
   "metadata": {},
   "outputs": [
    {
     "name": "stdout",
     "output_type": "stream",
     "text": [
      "Enter the number : 11\n",
      "Enter the number of entries required : 10\n",
      "11 x 1 = 11\n",
      "11 x 2 = 22\n",
      "11 x 3 = 33\n",
      "11 x 4 = 44\n",
      "11 x 5 = 55\n",
      "11 x 6 = 66\n",
      "11 x 7 = 77\n",
      "11 x 8 = 88\n",
      "11 x 9 = 99\n",
      "11 x 10 = 110\n"
     ]
    }
   ],
   "source": [
    "num = int(input('Enter the number : '))\n",
    "entry = int(input('Enter the number of entries required : '))\n",
    "\n",
    "for x in range(1,entry+1):\n",
    "    print('{} x {} = {}'.format(num,x,num*x))"
   ]
  },
  {
   "cell_type": "markdown",
   "id": "58c3c93c",
   "metadata": {},
   "source": [
    "#### 3. Write a Python Program to Print the Fibonacci sequence?"
   ]
  },
  {
   "cell_type": "code",
   "execution_count": 74,
   "id": "2a10ddf6",
   "metadata": {},
   "outputs": [
    {
     "name": "stdout",
     "output_type": "stream",
     "text": [
      "Enter the number of fibonacci numbers to be printed : 20\n",
      "[0, 1, 1, 2, 3, 5, 8, 13, 21, 34, 55, 89, 144, 233, 377, 610, 987, 1597, 2584, 4181]\n"
     ]
    }
   ],
   "source": [
    "def print_fibonacci(limit):\n",
    "    start = [0,1]\n",
    "    if limit <= 0:\n",
    "        print('Enter a positive value for limit')\n",
    "    elif limit == 1:\n",
    "        print(start[0])\n",
    "    elif limit == 2:\n",
    "        print(start)\n",
    "    else:\n",
    "        for i in range(1,limit-1):\n",
    "            start.append(start[i]+start[i-1])\n",
    "        print(start)                      \n",
    "limit = int(input('Enter the number of fibonacci numbers to be printed : '))\n",
    "print_fibonacci(limit)"
   ]
  },
  {
   "cell_type": "markdown",
   "id": "951cfd98",
   "metadata": {},
   "source": [
    "#### 4. Write a Python Program to Check Armstrong Number?"
   ]
  },
  {
   "cell_type": "code",
   "execution_count": 120,
   "id": "ee1506d1",
   "metadata": {},
   "outputs": [
    {
     "name": "stdout",
     "output_type": "stream",
     "text": [
      "Enter the number to be checked153\n",
      "153 is an Amstrong Number\n"
     ]
    }
   ],
   "source": [
    "def check_amstrong(num):\n",
    "    ln = len(num)\n",
    "    sm = 0\n",
    "    for x in list(num):\n",
    "        a = pow(int(x),ln)\n",
    "        sm = sm + a\n",
    "    if sm == int(num):\n",
    "        print(\"{} is an Amstrong Number\".format(num))\n",
    "    else:\n",
    "        print(\"{} is not an Amstrong Number\".format(num))\n",
    "    \n",
    "num = input('Enter the number to be checked')\n",
    "check_amstrong(num)"
   ]
  },
  {
   "cell_type": "markdown",
   "id": "6d628aa3",
   "metadata": {},
   "source": [
    "#### 5. Write a Python Program to Find Armstrong Number in an Interval?"
   ]
  },
  {
   "cell_type": "code",
   "execution_count": 122,
   "id": "a373eaa6",
   "metadata": {},
   "outputs": [
    {
     "name": "stdout",
     "output_type": "stream",
     "text": [
      "Enter the lower limit : 1\n",
      "Enter the upper limit : 10000\n",
      "[1, 2, 3, 4, 5, 6, 7, 8, 9, 153, 370, 371, 407, 1634, 8208, 9474]\n"
     ]
    }
   ],
   "source": [
    "def amstrong(lower,upper):\n",
    "    arm = []\n",
    "    for x in range(lower,upper+1):\n",
    "        ln = len(str(x))\n",
    "        sm = 0\n",
    "        for y in list(str(x)):\n",
    "            a = pow(int(y),ln)\n",
    "            sm+=a\n",
    "        if sm == x:\n",
    "            arm.append(x)\n",
    "    print(arm)\n",
    "lower = int(input('Enter the lower limit : '))\n",
    "upper = int(input('Enter the upper limit : '))\n",
    "amstrong(lower,upper)"
   ]
  },
  {
   "cell_type": "markdown",
   "id": "d7f74508",
   "metadata": {},
   "source": [
    "#### 6. Write a Python Program to Find the Sum of Natural Numbers?"
   ]
  },
  {
   "cell_type": "code",
   "execution_count": 34,
   "id": "3136da9a",
   "metadata": {},
   "outputs": [
    {
     "name": "stdout",
     "output_type": "stream",
     "text": [
      "Enter the limit : 200\n",
      "Sum of 200 natural numbers is 20100.0\n"
     ]
    }
   ],
   "source": [
    "lim = int(input('Enter the limit : '))\n",
    "temp = (lim*(lim+1))/2\n",
    "print('Sum of {} natural numbers is {}'.format(lim,temp))"
   ]
  }
 ],
 "metadata": {
  "kernelspec": {
   "display_name": "Python 3",
   "language": "python",
   "name": "python3"
  },
  "language_info": {
   "codemirror_mode": {
    "name": "ipython",
    "version": 3
   },
   "file_extension": ".py",
   "mimetype": "text/x-python",
   "name": "python",
   "nbconvert_exporter": "python",
   "pygments_lexer": "ipython3",
   "version": "3.8.8"
  }
 },
 "nbformat": 4,
 "nbformat_minor": 5
}
