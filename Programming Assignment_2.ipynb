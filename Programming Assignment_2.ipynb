{
 "cells": [
  {
   "cell_type": "markdown",
   "id": "d25d3711",
   "metadata": {},
   "source": [
    "#### 1.Write a Python program to convert kilometers to miles?"
   ]
  },
  {
   "cell_type": "code",
   "execution_count": 4,
   "id": "6346ed10",
   "metadata": {},
   "outputs": [
    {
     "name": "stdout",
     "output_type": "stream",
     "text": [
      "Enter the value in kilometers : 1\n",
      "1.0 kilometers is equal to 0.621371 miles\n"
     ]
    }
   ],
   "source": [
    "km = float(input('Enter the distance in kilometers : '))\n",
    "print('{} kilometers is equal to {} miles'.format(km,km*0.621371))"
   ]
  },
  {
   "cell_type": "markdown",
   "id": "fc485f9c",
   "metadata": {},
   "source": [
    "#### 2. Write a Python program to convert Celsius to Fahrenheit?"
   ]
  },
  {
   "cell_type": "code",
   "execution_count": 7,
   "id": "1a074d06",
   "metadata": {},
   "outputs": [
    {
     "name": "stdout",
     "output_type": "stream",
     "text": [
      "Enter the temperature in celcius : 32\n",
      "32.0 Celcius is equal to 89.6 Farenheit\n"
     ]
    }
   ],
   "source": [
    "cel = float(input('Enter the temperature in celcius : '))\n",
    "print('{} Celcius is equal to {} Farenheit'.format(cel,(cel*1.8)+32))"
   ]
  },
  {
   "cell_type": "markdown",
   "id": "3a21ee4c",
   "metadata": {},
   "source": [
    "#### 3. Write a Python program to display calendar?"
   ]
  },
  {
   "cell_type": "code",
   "execution_count": 10,
   "id": "e9f0f415",
   "metadata": {},
   "outputs": [
    {
     "name": "stdout",
     "output_type": "stream",
     "text": [
      "Enter the calendar year2022\n",
      "                                  2022\n",
      "\n",
      "      January                   February                   March\n",
      "Mo Tu We Th Fr Sa Su      Mo Tu We Th Fr Sa Su      Mo Tu We Th Fr Sa Su\n",
      "                1  2          1  2  3  4  5  6          1  2  3  4  5  6\n",
      " 3  4  5  6  7  8  9       7  8  9 10 11 12 13       7  8  9 10 11 12 13\n",
      "10 11 12 13 14 15 16      14 15 16 17 18 19 20      14 15 16 17 18 19 20\n",
      "17 18 19 20 21 22 23      21 22 23 24 25 26 27      21 22 23 24 25 26 27\n",
      "24 25 26 27 28 29 30      28                        28 29 30 31\n",
      "31\n",
      "\n",
      "       April                      May                       June\n",
      "Mo Tu We Th Fr Sa Su      Mo Tu We Th Fr Sa Su      Mo Tu We Th Fr Sa Su\n",
      "             1  2  3                         1             1  2  3  4  5\n",
      " 4  5  6  7  8  9 10       2  3  4  5  6  7  8       6  7  8  9 10 11 12\n",
      "11 12 13 14 15 16 17       9 10 11 12 13 14 15      13 14 15 16 17 18 19\n",
      "18 19 20 21 22 23 24      16 17 18 19 20 21 22      20 21 22 23 24 25 26\n",
      "25 26 27 28 29 30         23 24 25 26 27 28 29      27 28 29 30\n",
      "                          30 31\n",
      "\n",
      "        July                     August                  September\n",
      "Mo Tu We Th Fr Sa Su      Mo Tu We Th Fr Sa Su      Mo Tu We Th Fr Sa Su\n",
      "             1  2  3       1  2  3  4  5  6  7                1  2  3  4\n",
      " 4  5  6  7  8  9 10       8  9 10 11 12 13 14       5  6  7  8  9 10 11\n",
      "11 12 13 14 15 16 17      15 16 17 18 19 20 21      12 13 14 15 16 17 18\n",
      "18 19 20 21 22 23 24      22 23 24 25 26 27 28      19 20 21 22 23 24 25\n",
      "25 26 27 28 29 30 31      29 30 31                  26 27 28 29 30\n",
      "\n",
      "      October                   November                  December\n",
      "Mo Tu We Th Fr Sa Su      Mo Tu We Th Fr Sa Su      Mo Tu We Th Fr Sa Su\n",
      "                1  2          1  2  3  4  5  6                1  2  3  4\n",
      " 3  4  5  6  7  8  9       7  8  9 10 11 12 13       5  6  7  8  9 10 11\n",
      "10 11 12 13 14 15 16      14 15 16 17 18 19 20      12 13 14 15 16 17 18\n",
      "17 18 19 20 21 22 23      21 22 23 24 25 26 27      19 20 21 22 23 24 25\n",
      "24 25 26 27 28 29 30      28 29 30                  26 27 28 29 30 31\n",
      "31\n",
      "\n"
     ]
    }
   ],
   "source": [
    "import calendar\n",
    "year = int(input('Enter the calendar year'))\n",
    "print(calendar.calendar(year))"
   ]
  },
  {
   "cell_type": "markdown",
   "id": "d3f37639",
   "metadata": {},
   "source": [
    "#### 4.Write a Python program to solve quadratic equation?"
   ]
  },
  {
   "cell_type": "code",
   "execution_count": 26,
   "id": "3de96dde",
   "metadata": {},
   "outputs": [
    {
     "name": "stdout",
     "output_type": "stream",
     "text": [
      "Enter a value: 2\n",
      "Enter b value: 4\n",
      "Enter c value: 2\n",
      "Solutions are :(-1+0j),(-1+0j) \n"
     ]
    }
   ],
   "source": [
    "import cmath\n",
    "\n",
    "a = int(input('Enter a value: '))\n",
    "b = int(input('Enter b value: '))\n",
    "c = int(input('Enter c value: '))\n",
    "\n",
    "d = (b**2)-(4*a*c)\n",
    "\n",
    "sol1 = (-b - cmath.sqrt(d))/(2*a)\n",
    "sol2 = (-b + cmath.sqrt(d))/(2*a)\n",
    "\n",
    "print(\"Solutions are :{},{} \".format(sol1,sol2))"
   ]
  },
  {
   "cell_type": "markdown",
   "id": "bd45cd31",
   "metadata": {},
   "source": [
    "#### 5.Write a Python program to swap two variables without temp variable?"
   ]
  },
  {
   "cell_type": "code",
   "execution_count": 17,
   "id": "68b74886",
   "metadata": {},
   "outputs": [
    {
     "name": "stdout",
     "output_type": "stream",
     "text": [
      "Enter first number100\n",
      "Enter second number200\n",
      "Original Values are :  100 200\n",
      "Swapped values are :  200 100\n"
     ]
    }
   ],
   "source": [
    "num1 = int(input('Enter first number')) # 10\n",
    "num2 = int(input('Enter second number')) # 20\n",
    "print('Original Values are : ',num1,num2)\n",
    "num1 = num1+num2 # 30\n",
    "num2 = num1-num2 # 30 - 20 = 10\n",
    "num1 = num1-num2 # 30 - 10 = 20\n",
    "print('Swapped values are : ',num1,num2)"
   ]
  }
 ],
 "metadata": {
  "kernelspec": {
   "display_name": "Python 3",
   "language": "python",
   "name": "python3"
  },
  "language_info": {
   "codemirror_mode": {
    "name": "ipython",
    "version": 3
   },
   "file_extension": ".py",
   "mimetype": "text/x-python",
   "name": "python",
   "nbconvert_exporter": "python",
   "pygments_lexer": "ipython3",
   "version": "3.8.8"
  }
 },
 "nbformat": 4,
 "nbformat_minor": 5
}
