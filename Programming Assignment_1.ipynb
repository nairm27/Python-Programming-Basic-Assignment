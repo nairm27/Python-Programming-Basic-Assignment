{
 "cells": [
  {
   "cell_type": "markdown",
   "id": "e62c26e5",
   "metadata": {},
   "source": [
    "#### 1.Write a Python program to print &quot;Hello Python&quot;?"
   ]
  },
  {
   "cell_type": "code",
   "execution_count": null,
   "id": "26229352",
   "metadata": {},
   "outputs": [
    {
     "name": "stdout",
     "output_type": "stream",
     "text": [
      "Hello Python\n"
     ]
    }
   ],
   "source": [
    "print('Hello Python')"
   ]
  },
  {
   "cell_type": "markdown",
   "id": "1d515750",
   "metadata": {},
   "source": [
    "#### 2.Write a Python program to do arithmetical operations addition and division.?"
   ]
  },
  {
   "cell_type": "code",
   "execution_count": 3,
   "id": "aecce9ae",
   "metadata": {},
   "outputs": [
    {
     "name": "stdout",
     "output_type": "stream",
     "text": [
      "\n",
      "Enter the operation to be performed\n",
      "\n",
      "+ for addition\n",
      "- for subtraction\n",
      "* for multiplication\n",
      "/ for division\n",
      "x for Exit\n",
      "/\n",
      "Enter the first number20\n",
      "Enter the second number10\n",
      "20/10=2.0\n"
     ]
    }
   ],
   "source": [
    "while True:\n",
    "    print(\"\\nEnter the operation to be performed\")\n",
    "    print('\\n+ for addition\\n- for subtraction\\n* for multiplication\\n/ for division\\nx for Exit')\n",
    "    opr = input()\n",
    "    if opr == 'x':\n",
    "        break\n",
    "    if opr not in ['+','-','*','/']:\n",
    "        print('Enter a valid operation')\n",
    "        break\n",
    "    num1 = input(\"Enter the first number\")    \n",
    "    if not(num1.isdigit()):\n",
    "        print('Enter a valid first number')\n",
    "        break\n",
    "    num1=int(num1)\n",
    "    num2 = input(\"Enter the second number\")\n",
    "    if not(num2.isdigit()):\n",
    "        print('Enter a valid second number')\n",
    "        break\n",
    "    num2=int(num2)\n",
    "    if opr == '+':\n",
    "        print('{}+{}={}'.format(num1,num2,num1+num2))\n",
    "        break\n",
    "    elif opr == '-':\n",
    "        print('{}-{}={}'.format(num1,num2,num1-num2))\n",
    "        break\n",
    "    elif opr == '*':\n",
    "        print('{}*{}={}'.format(num1,num2,num1*num2))\n",
    "        break\n",
    "    elif opr == '/':\n",
    "        print('{}/{}={}'.format(num1,num2,num1/num2))\n",
    "        break"
   ]
  },
  {
   "cell_type": "markdown",
   "id": "8925d55d",
   "metadata": {},
   "source": [
    "#### 3.Write a Python program to find the area of a triangle?"
   ]
  },
  {
   "cell_type": "code",
   "execution_count": 10,
   "id": "020f0958",
   "metadata": {},
   "outputs": [
    {
     "name": "stdout",
     "output_type": "stream",
     "text": [
      "Enter the height of the triangle : 10\n",
      "Enter the base of the triangle : 20\n",
      "Area of the trianlge with base 20 and height 10 is : 100.0 \n"
     ]
    }
   ],
   "source": [
    "ht = int(input('Enter the height of the triangle : '))\n",
    "bs = int(input('Enter the base of the triangle : '))\n",
    "area = 0.5*ht*bs\n",
    "print('Area of the trianlge with base {} and height {} is : {} '.format(bs,ht,area))"
   ]
  },
  {
   "cell_type": "markdown",
   "id": "eb6520a3",
   "metadata": {},
   "source": [
    "#### 4. Write a Python program to swap two variables?"
   ]
  },
  {
   "cell_type": "code",
   "execution_count": 14,
   "id": "c5bd0859",
   "metadata": {},
   "outputs": [
    {
     "name": "stdout",
     "output_type": "stream",
     "text": [
      "Enter the first variable20\n",
      "Enter the second variable30\n",
      "Original Values are : 20  30\n",
      "Swapped Values are : 30  20\n"
     ]
    }
   ],
   "source": [
    "a = int(input(('Enter the first variable')))\n",
    "b = int(input(('Enter the second variable')))\n",
    "print('Original Values are : {}  {}'.format(a,b))\n",
    "c = a\n",
    "a = b\n",
    "b = c\n",
    "print('Swapped Values are : {}  {}'.format(a,b))"
   ]
  },
  {
   "cell_type": "markdown",
   "id": "d292b303",
   "metadata": {},
   "source": [
    "#### 5. Write a Python program to generate a random number?"
   ]
  },
  {
   "cell_type": "code",
   "execution_count": 21,
   "id": "82814a73",
   "metadata": {},
   "outputs": [
    {
     "name": "stdout",
     "output_type": "stream",
     "text": [
      "Random number generated is : 0.935969909232896\n",
      "Random integer generated is : 3\n"
     ]
    }
   ],
   "source": [
    "import random\n",
    "print('Random number generated is :',random.random())\n",
    "print('Random integer generated is :',random.randint(0,10))"
   ]
  }
 ],
 "metadata": {
  "kernelspec": {
   "display_name": "Python 3",
   "language": "python",
   "name": "python3"
  },
  "language_info": {
   "codemirror_mode": {
    "name": "ipython",
    "version": 3
   },
   "file_extension": ".py",
   "mimetype": "text/x-python",
   "name": "python",
   "nbconvert_exporter": "python",
   "pygments_lexer": "ipython3",
   "version": "3.8.8"
  }
 },
 "nbformat": 4,
 "nbformat_minor": 5
}
